{
  "nbformat": 4,
  "nbformat_minor": 0,
  "metadata": {
    "colab": {
      "name": "PhoneNumberDetails.ipynb",
      "provenance": []
    },
    "kernelspec": {
      "name": "python3",
      "display_name": "Python 3"
    },
    "language_info": {
      "name": "python"
    }
  },
  "cells": [
    {
      "cell_type": "code",
      "execution_count": 1,
      "metadata": {
        "colab": {
          "base_uri": "https://localhost:8080/"
        },
        "id": "6DlHm4tpinGo",
        "outputId": "24232594-6b57-4567-95be-6fc2218fdc4a"
      },
      "outputs": [
        {
          "output_type": "stream",
          "name": "stdout",
          "text": [
            "Looking in indexes: https://pypi.org/simple, https://us-python.pkg.dev/colab-wheels/public/simple/\n",
            "Collecting phonenumbers\n",
            "  Downloading phonenumbers-8.12.51-py2.py3-none-any.whl (2.6 MB)\n",
            "\u001b[K     |████████████████████████████████| 2.6 MB 17.7 MB/s \n",
            "\u001b[?25hInstalling collected packages: phonenumbers\n",
            "Successfully installed phonenumbers-8.12.51\n"
          ]
        }
      ],
      "source": [
        "pip install phonenumbers"
      ]
    },
    {
      "cell_type": "code",
      "source": [
        "import phonenumbers as ph\n",
        "from phonenumbers import carrier\n",
        "from phonenumbers import geocoder\n",
        "from phonenumbers import timezone "
      ],
      "metadata": {
        "id": "pdFZhYWdipoc"
      },
      "execution_count": 11,
      "outputs": []
    },
    {
      "cell_type": "code",
      "source": [
        "number=\"+9191XXXXXXXX\" # Enter the first 2 digits of your number after the country code\n",
        "number=ph.parse(number) #Parse converts data into another type\n",
        "print(timezone.time_zones_for_number(number)) #Prints the timezone \n",
        "print(carrier.name_for_number(number, \"en\")) #Prints the carrier of the number\n",
        "print(geocoder.description_for_number(number,\"en\")) #Transforms a street address into coordinates\n"
      ],
      "metadata": {
        "colab": {
          "base_uri": "https://localhost:8080/"
        },
        "id": "ZjfWrrv2i3PH",
        "outputId": "ab04dca7-d298-4610-9fb7-9669a6896036"
      },
      "execution_count": 12,
      "outputs": [
        {
          "output_type": "stream",
          "name": "stdout",
          "text": [
            "('Asia/Calcutta',)\n",
            "Airtel\n",
            "India\n"
          ]
        }
      ]
    },
    {
      "cell_type": "code",
      "source": [
        ""
      ],
      "metadata": {
        "id": "7buSWmOdkkI3"
      },
      "execution_count": null,
      "outputs": []
    }
  ]
}